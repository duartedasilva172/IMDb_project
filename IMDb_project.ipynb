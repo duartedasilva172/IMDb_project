{
 "cells": [
  {
   "cell_type": "code",
   "execution_count": 10,
   "id": "a3bc0492",
   "metadata": {},
   "outputs": [],
   "source": [
    "import pandas as pd\n",
    "import json\n",
    "import numpy as np\n",
    "import os "
   ]
  },
  {
   "cell_type": "code",
   "execution_count": 11,
   "id": "7db062a6",
   "metadata": {},
   "outputs": [
    {
     "name": "stdout",
     "output_type": "stream",
     "text": [
      "/Users/duartedasilva/Desktop/IMDb_project\n",
      "['.DS_Store', 'movies.json', 'requirements.txt', 'IMDb_script.py', 'virtual_environment_script.rb', 'README.md', 'python_practice.py', '.gitignore', 'IMDb_project.ipynb', '.git']\n"
     ]
    }
   ],
   "source": [
    "print(os.getcwd()) # Get current working directory\n",
    "print(os.listdir())"
   ]
  },
  {
   "cell_type": "code",
   "execution_count": 12,
   "id": "7008a2e1",
   "metadata": {},
   "outputs": [
    {
     "name": "stdout",
     "output_type": "stream",
     "text": [
      "File found! /Users/duartedasilva/Desktop/IMDb_project/movies.json\n"
     ]
    }
   ],
   "source": [
    "import os \n",
    "if os.path.exists(\"movies.json\"):\n",
    "    print(\"File found!\", os.path.abspath('movies.json'))\n",
    "else:\n",
    "    print(\"File not found!\")"
   ]
  },
  {
   "cell_type": "code",
   "execution_count": 7,
   "id": "322c8f24",
   "metadata": {},
   "outputs": [],
   "source": [
    "os.chdir('/Users/duartedasilva/Desktop/IMDb_project')"
   ]
  },
  {
   "cell_type": "code",
   "execution_count": 13,
   "id": "8ab8ff94",
   "metadata": {},
   "outputs": [
    {
     "name": "stdout",
     "output_type": "stream",
     "text": [
      "Total movies: 5\n"
     ]
    }
   ],
   "source": [
    "with open('movies.json') as f:\n",
    "    movies = json.load(f)\n",
    "\n",
    "print(f\"Total movies: {len(movies)}\")"
   ]
  },
  {
   "cell_type": "code",
   "execution_count": 9,
   "id": "d5c7e1af",
   "metadata": {},
   "outputs": [
    {
     "name": "stdout",
     "output_type": "stream",
     "text": [
      "Working Directory: /Users/duartedasilva/IMDb_project\n",
      "Files in this directory: ['IMDb_script.py', '.gitignore', 'IMDb_project.ipynb', '.git']\n",
      "movies.json exists: False\n"
     ]
    }
   ],
   "source": [
    "import os\n",
    "\n",
    "# Step 1: Show exactly where the notebook kernel is running from\n",
    "print(\"Working Directory:\", os.getcwd())\n",
    "\n",
    "# Step 2: List all files there\n",
    "print(\"Files in this directory:\", os.listdir())\n",
    "\n",
    "# Step 3: Check explicitly if 'movies.json' is present\n",
    "print(\"movies.json exists:\", os.path.exists(\"movies.json\"))\n"
   ]
  }
 ],
 "metadata": {
  "kernelspec": {
   "display_name": "Python 3",
   "language": "python",
   "name": "python3"
  },
  "language_info": {
   "codemirror_mode": {
    "name": "ipython",
    "version": 3
   },
   "file_extension": ".py",
   "mimetype": "text/x-python",
   "name": "python",
   "nbconvert_exporter": "python",
   "pygments_lexer": "ipython3",
   "version": "3.9.6"
  }
 },
 "nbformat": 4,
 "nbformat_minor": 5
}
